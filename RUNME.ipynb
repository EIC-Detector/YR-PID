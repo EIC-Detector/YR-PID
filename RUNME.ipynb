{
 "cells": [
  {
   "cell_type": "markdown",
   "metadata": {},
   "source": [
    "# Yellow Report PID Performance Evaluation\n",
    "\n",
    "The codes presented here are not officially sanctioned code.\n",
    "\n",
    "Nonetheless, for PID, there will be a requirement that all detector technologies\n",
    "shall present performance plots via code so that an apples-to-apples comparison\n",
    "is possible.\n",
    "\n",
    "This example will allow groups to get started immediately with code that would require\n",
    "minimal future updates when an official formulation becomes available.  The code here is how you \n",
    "REPORT the fundings of your simulations...not how you acquire them.\n",
    "\n",
    "Here is how to run this simple example:\n",
    "\n",
    "```\n",
    "[me@computer] root -l\n",
    "root [0] .x RUNME.C\n",
    "```\n",
    "\n",
    "If you want to develop your own detector, it is basically like this:\n",
    "\n",
    "1.  `Copy tofBarrel.h <yourThing>.h`\n",
    "2.  `Copy tofBarrel.C <yourthing>.C`\n",
    "3.  Edit these files to make them correct:\n",
    "    - search and replace tofBarrel with <yourThing>  \n",
    "    - change every routine until to gives answers for your detector technology.\n",
    "4.  A few requests to help your colleagues:\n",
    "    - use variable names that are meaningful (particularly in the constructor).  \n",
    "    - put reasonable default values for all arguments in the constructor.\n",
    "    - If there is some critical value (tof res, index of refraction) put this in the name string.\n",
    "    - comments in the code can include:\n",
    "      - comments to help understand how it is coded.\n",
    "      - comments to summarize assumptions in the present version.\n",
    "      - comments to reference source of information\n"
   ]
  },
  {
   "cell_type": "code",
   "execution_count": 1,
   "metadata": {},
   "outputs": [],
   "source": [
    "#include \"tofBarrel.C\""
   ]
  },
  {
   "cell_type": "code",
   "execution_count": 2,
   "metadata": {},
   "outputs": [],
   "source": [
    "std::vector<PID*> Detectors;\n",
    "std::vector<TH1*> Plots;\n",
    "\n",
    "PID::type   myType = PID::pi_k;  // This means I want to plot the pi_K separation;\n",
    "double    numSigma = 3.0;        // This means I want to plot teh contour for three sigma separation\n"
   ]
  },
  {
   "cell_type": "code",
   "execution_count": 3,
   "metadata": {},
   "outputs": [],
   "source": [
    "\n",
    "  //  Add as many detectors as your heart desires....\n",
    "  Detectors.push_back( new tofBarrel(150, -1, 1,  5) ); //  5 psec @ 150 cm\n",
    "  Detectors.push_back( new tofBarrel(100, -1, 1, 10) ); // 10 psec @ 100 cm\n",
    "  Detectors.push_back( new tofBarrel(100, -1, 1, 20) ); // 20 psec @ 100 cm\n",
    "  "
   ]
  },
  {
   "cell_type": "code",
   "execution_count": 4,
   "metadata": {},
   "outputs": [],
   "source": [
    "  //  Select the booking criterion for the performance plot.\n",
    "  TH1* Performance = new TH1D(\"Performance\",\"Performance\",100,-6,6);  // Format for detector Performance."
   ]
  },
  {
   "cell_type": "markdown",
   "metadata": {},
   "source": [
    "At least in the beginning, you might not want to change the lines below here...\n"
   ]
  },
  {
   "cell_type": "code",
   "execution_count": 5,
   "metadata": {},
   "outputs": [
    {
     "name": "stdout",
     "output_type": "stream",
     "text": [
      "My name is \"TOF barrel R=150 dT=5\" and I am described as follows:\n",
      "    I am a Time-of-Flight barrel.\n",
      "    I extend from eta =  -1 until eta = 1 .\n",
      "    I am located at radius R= 150 cm.\n",
      "    I have a time resolution of 5 picoseconds.\n",
      "    My calculations have assumed perfect momentum resolution and pointing.\n",
      "    My calculations have assumed purely Gaussian time response.\n",
      "\n",
      "My name is \"TOF barrel R=100 dT=10\" and I am described as follows:\n",
      "    I am a Time-of-Flight barrel.\n",
      "    I extend from eta =  -1 until eta = 1 .\n",
      "    I am located at radius R= 100 cm.\n",
      "    I have a time resolution of 10 picoseconds.\n",
      "    My calculations have assumed perfect momentum resolution and pointing.\n",
      "    My calculations have assumed purely Gaussian time response.\n",
      "\n",
      "My name is \"TOF barrel R=100 dT=20\" and I am described as follows:\n",
      "    I am a Time-of-Flight barrel.\n",
      "    I extend from eta =  -1 until eta = 1 .\n",
      "    I am located at radius R= 100 cm.\n",
      "    I have a time resolution of 20 picoseconds.\n",
      "    My calculations have assumed perfect momentum resolution and pointing.\n",
      "    My calculations have assumed purely Gaussian time response.\n",
      "\n"
     ]
    }
   ],
   "source": [
    "// Now we call upon all detectors to present their descriptions and assumptions.\n",
    "  for (int i=0; i<Detectors.size(); i++)\n",
    "    {\n",
    "      Detectors[i]->description();\n",
    "    }\n",
    "\n",
    "  // Now we clone the original performance plot once for every known detector.\n",
    "  for (int i=0; i<Detectors.size(); i++)\n",
    "    {\n",
    "      Plots.push_back( (TH1*)Performance->Clone(Detectors[i]->name().c_str()) );\n",
    "      Plots[i]->SetLineColor(i+1);  // Works well only for the first 9 colors...\n",
    "      Plots[i]->SetLineWidth(4);\n",
    "   }\n",
    "  \n",
    "  // Now we fill all the performance plots:\n",
    "  for (int i=1; i<Plots[0]->GetNbinsX(); i++) // Remember root is weird...bin0 is the underflow bin\n",
    "    {\n",
    "      double eta = Plots[0]->GetBinCenter(i);\n",
    "      for (int j=0; j<Detectors.size(); j++)\n",
    "\t{\n",
    "\t  if (Detectors[j]->valid(eta, 1.0))\n",
    "\t    {\n",
    "\t      Plots[j]->SetBinContent(i, Detectors[j]->maxP(eta, numSigma, myType) ); \n",
    "\t    }\n",
    "\t}\n",
    "    }"
   ]
  },
  {
   "cell_type": "markdown",
   "metadata": {},
   "source": [
    "## Make the plot"
   ]
  },
  {
   "cell_type": "code",
   "execution_count": 6,
   "metadata": {},
   "outputs": [
    {
     "data": {
      "image/png": "[encoded data removed]",
      "text/plain": [
       "<IPython.core.display.Image object>"
      ]
     },
     "metadata": {},
     "output_type": "display_data"
    }
   ],
   "source": [
    "{\n",
    "    \n",
    "  TCanvas *c1 = new TCanvas(\"c1\",\"c1\",1600,900);\n",
    "  // Now we display the performance plots\n",
    "  for (int i=0; i<Plots.size(); i++)\n",
    "    {\n",
    "      Plots[i]->Draw(\"same\");\n",
    "    }\n",
    "\n",
    "  //  Now we put colored names on top of the plot (too fancy?)...\n",
    "  TPaveText *pt = new TPaveText(0.15,0.7,0.4,0.90,\"NDC\");\n",
    "  for (int i=0; i<Detectors.size(); i++)\n",
    "    {\n",
    "      pt->AddText( Detectors[i]->name().c_str() ); \n",
    "      ((TText*)pt->GetListOfLines()->Last())->SetTextColor(i+1);\n",
    "    }\n",
    "  pt->Draw();\n",
    "    \n",
    "  c1 -> Draw();\n",
    "}"
   ]
  },
  {
   "cell_type": "code",
   "execution_count": null,
   "metadata": {},
   "outputs": [],
   "source": []
  }
 ],
 "metadata": {
  "kernelspec": {
   "display_name": "sPHENIX ROOT C++",
   "language": "c++",
   "name": "sphenix-root"
  },
  "language_info": {
   "codemirror_mode": "text/x-c++src",
   "file_extension": ".C",
   "mimetype": " text/x-c++src",
   "name": "c++"
  }
 },
 "nbformat": 4,
 "nbformat_minor": 4
}
